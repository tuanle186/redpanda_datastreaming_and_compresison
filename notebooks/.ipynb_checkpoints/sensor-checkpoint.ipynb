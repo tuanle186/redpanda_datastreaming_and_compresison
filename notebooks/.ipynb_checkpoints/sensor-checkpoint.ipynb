{
 "cells": [
  {
   "cell_type": "code",
   "execution_count": 1,
   "id": "f0ec6247-ac25-4bca-ab4b-30c01150653d",
   "metadata": {},
   "outputs": [],
   "source": [
    "import pandas as pd\n",
    "import time\n",
    "from datetime import datetime"
   ]
  },
  {
   "cell_type": "code",
   "execution_count": 3,
   "id": "d357ec23-7dbd-4bfa-8b29-b276b0bd72d4",
   "metadata": {},
   "outputs": [],
   "source": [
    "class Sensor():\n",
    "    def __init__(self, data: str):\n",
    "        self.data = data\n",
    "\n",
    "    def run(self):\n",
    "        # Read the CSV file\n",
    "        df = pd.read_csv(self.data)\n",
    "\n",
    "        # Convert 'time' column to datetime, combining it with the 'date' column to get full datetime values\n",
    "        df['datetime'] = pd.to_datetime(df['date'] + ' ' + df['time'])\n",
    "\n",
    "        # Sort the dataframe by 'datetime' to ensure chronological order\n",
    "        df = df.sort_values(by='datetime').reset_index(drop=True)\n",
    "\n",
    "        # Iterate over the rows and simulate the sensor data output\n",
    "        for i in range(len(df)):\n",
    "            row = df.iloc[i]\n",
    "\n",
    "            # Print the current row's data\n",
    "            print(f\"Time: {row['datetime']}, Temperature: {row['temperature']}, Humidity: {row['humidity']}, Light: {row['light']}, Voltage: {row['voltage']}\")\n",
    "            \n",
    "            # For the first row, there's no previous row to calculate the sleep time, so we skip it\n",
    "            if i < len(df) - 1:\n",
    "                # Calculate the time difference between the current and next row in seconds\n",
    "                time_diff = (df['datetime'].iloc[i+1] - df['datetime'].iloc[i]).total_seconds()\n",
    "                \n",
    "                # Sleep for the time difference to simulate real-time data output\n",
    "                time.sleep(time_diff/100)\n",
    "\n",
    "        print(\"Simulation finished!\")"
   ]
  },
  {
   "cell_type": "code",
   "execution_count": 7,
   "id": "48465791-aadd-40b4-ae15-75133f3ef4d7",
   "metadata": {},
   "outputs": [
    {
     "name": "stdout",
     "output_type": "stream",
     "text": [
      "Time: 2004-02-28 00:59:16.027850, Temperature: 19.9884, Humidity: 37.0933, Light: 45.08, Voltage: 2.69964\n",
      "Time: 2004-02-28 01:03:16.333930, Temperature: 19.3024, Humidity: 38.4629, Light: 45.08, Voltage: 2.68742\n",
      "Time: 2004-02-28 01:06:16.013453, Temperature: 19.1652, Humidity: 38.8039, Light: 45.08, Voltage: 2.68742\n",
      "Time: 2004-02-28 01:06:46.778088, Temperature: 19.175, Humidity: 38.8379, Light: 45.08, Voltage: 2.69964\n",
      "Time: 2004-02-28 01:08:45.992524, Temperature: 19.1456, Humidity: 38.9401, Light: 45.08, Voltage: 2.68742\n",
      "Time: 2004-02-28 01:09:22.323858, Temperature: 19.1652, Humidity: 38.872, Light: 45.08, Voltage: 2.68742\n",
      "Time: 2004-02-28 01:09:46.109598, Temperature: 19.1652, Humidity: 38.8039, Light: 45.08, Voltage: 2.68742\n",
      "Time: 2004-02-28 01:10:16.678900, Temperature: 19.1456, Humidity: 38.8379, Light: 45.08, Voltage: 2.69964\n",
      "Time: 2004-02-28 01:10:46.250524, Temperature: 19.1456, Humidity: 38.872, Light: 45.08, Voltage: 2.68742\n",
      "Time: 2004-02-28 01:11:46.941288, Temperature: 19.1456, Humidity: 38.9401, Light: 45.08, Voltage: 2.69964\n",
      "Time: 2004-02-28 01:12:46.251377, Temperature: 19.1358, Humidity: 38.9061, Light: 45.08, Voltage: 2.68742\n",
      "Time: 2004-02-28 01:14:16.631270, Temperature: 19.1162, Humidity: 38.8039, Light: 45.08, Voltage: 2.69964\n",
      "Time: 2004-02-28 01:14:46.569352, Temperature: 19.1162, Humidity: 38.872, Light: 45.08, Voltage: 2.69964\n",
      "Time: 2004-02-28 01:15:16.649556, Temperature: 19.1064, Humidity: 39.0082, Light: 45.08, Voltage: 2.69964\n",
      "Time: 2004-02-28 01:16:16.343708, Temperature: 19.1064, Humidity: 38.872, Light: 43.24, Voltage: 2.69964\n",
      "Time: 2004-02-28 01:16:46.508622, Temperature: 19.0966, Humidity: 38.8039, Light: 43.24, Voltage: 2.69964\n",
      "Time: 2004-02-28 01:17:46.427446, Temperature: 19.0966, Humidity: 38.7357, Light: 43.24, Voltage: 2.69964\n",
      "Time: 2004-02-28 01:18:16.468248, Temperature: 19.0868, Humidity: 38.8039, Light: 43.24, Voltage: 2.69964\n",
      "Time: 2004-02-28 01:20:16.107740, Temperature: 19.0672, Humidity: 38.9061, Light: 43.24, Voltage: 2.68742\n",
      "Time: 2004-02-28 01:20:46.033312, Temperature: 19.0672, Humidity: 38.872, Light: 43.24, Voltage: 2.69964\n",
      "Time: 2004-02-28 01:21:16.648189, Temperature: 19.0672, Humidity: 38.9061, Light: 43.24, Voltage: 2.69964\n",
      "Time: 2004-02-28 01:22:16.026390, Temperature: 19.0868, Humidity: 39.0082, Light: 43.24, Voltage: 2.69964\n",
      "Time: 2004-02-28 01:23:16.899912, Temperature: 19.0182, Humidity: 38.7357, Light: 43.24, Voltage: 2.68742\n",
      "Time: 2004-02-28 01:23:46.545863, Temperature: 19.0182, Humidity: 38.7357, Light: 43.24, Voltage: 2.69964\n",
      "Time: 2004-02-28 01:24:16.176842, Temperature: 19.0084, Humidity: 38.8039, Light: 43.24, Voltage: 2.69964\n",
      "Time: 2004-02-28 01:26:16.656972, Temperature: 19.0084, Humidity: 38.9401, Light: 43.24, Voltage: 2.68742\n",
      "Time: 2004-02-28 01:26:46.463293, Temperature: 19.0084, Humidity: 38.9401, Light: 43.24, Voltage: 2.69964\n",
      "Time: 2004-02-28 01:28:46.483577, Temperature: 18.9986, Humidity: 38.9742, Light: 43.24, Voltage: 2.68742\n",
      "Time: 2004-02-28 01:29:46.102532, Temperature: 19.0084, Humidity: 38.9742, Light: 43.24, Voltage: 2.69964\n",
      "Time: 2004-02-28 01:30:46.454955, Temperature: 18.9888, Humidity: 39.0422, Light: 43.24, Voltage: 2.68742\n",
      "Time: 2004-02-28 01:32:16.561857, Temperature: 18.9692, Humidity: 38.9401, Light: 43.24, Voltage: 2.69964\n",
      "Time: 2004-02-28 01:32:46.312039, Temperature: 18.979, Humidity: 39.0763, Light: 43.24, Voltage: 2.69964\n",
      "Time: 2004-02-28 01:33:46.446315, Temperature: 18.979, Humidity: 38.9742, Light: 43.24, Voltage: 2.68742\n",
      "Time: 2004-02-28 01:34:46.258012, Temperature: 18.9692, Humidity: 38.9401, Light: 43.24, Voltage: 2.68742\n",
      "Time: 2004-02-28 01:35:16.394184, Temperature: 18.9888, Humidity: 38.8039, Light: 43.24, Voltage: 2.69964\n",
      "Time: 2004-02-28 01:36:16.806149, Temperature: 18.979, Humidity: 38.872, Light: 43.24, Voltage: 2.68742\n",
      "Time: 2004-02-28 01:36:46.872566, Temperature: 18.9888, Humidity: 38.9061, Light: 43.24, Voltage: 2.69964\n",
      "Time: 2004-02-28 01:37:16.691853, Temperature: 18.9692, Humidity: 38.8039, Light: 43.24, Voltage: 2.69964\n",
      "Time: 2004-02-28 01:39:46.158044, Temperature: 18.9594, Humidity: 38.8039, Light: 43.24, Voltage: 2.68742\n",
      "Time: 2004-02-28 01:42:16.849635, Temperature: 18.9594, Humidity: 38.8379, Light: 43.24, Voltage: 2.68742\n",
      "Time: 2004-02-28 01:42:46.087976, Temperature: 18.9692, Humidity: 38.8039, Light: 43.24, Voltage: 2.69964\n",
      "Time: 2004-02-28 01:44:16.118274, Temperature: 18.9398, Humidity: 38.7698, Light: 43.24, Voltage: 2.68742\n",
      "Time: 2004-02-28 01:45:46.665826, Temperature: 18.93, Humidity: 38.8039, Light: 43.24, Voltage: 2.69964\n",
      "Time: 2004-02-28 01:46:46.411103, Temperature: 18.9202, Humidity: 38.872, Light: 43.24, Voltage: 2.68742\n",
      "Time: 2004-02-28 01:48:46.481060, Temperature: 18.9104, Humidity: 39.0082, Light: 43.24, Voltage: 2.69964\n",
      "Time: 2004-02-28 01:49:46.499231, Temperature: 18.9006, Humidity: 38.9061, Light: 43.24, Voltage: 2.69964\n",
      "Time: 2004-02-28 01:50:16.243615, Temperature: 18.9006, Humidity: 39.0082, Light: 43.24, Voltage: 2.69964\n",
      "Time: 2004-02-28 01:50:46.640656, Temperature: 18.9104, Humidity: 39.0082, Light: 43.24, Voltage: 2.68742\n",
      "Time: 2004-02-28 01:51:16.492577, Temperature: 18.9006, Humidity: 39.0082, Light: 43.24, Voltage: 2.69964\n",
      "Time: 2004-02-28 01:52:16.658227, Temperature: 18.8908, Humidity: 39.0763, Light: 43.24, Voltage: 2.68742\n",
      "Time: 2004-02-28 01:54:46.362044, Temperature: 18.9006, Humidity: 39.0082, Light: 43.24, Voltage: 2.69964\n",
      "Time: 2004-02-28 01:56:16.384579, Temperature: 18.9104, Humidity: 39.0082, Light: 43.24, Voltage: 2.69964\n",
      "Time: 2004-02-28 01:57:16.176569, Temperature: 18.8908, Humidity: 38.9401, Light: 43.24, Voltage: 2.68742\n",
      "Time: 2004-02-28 02:01:46.132962, Temperature: 18.8712, Humidity: 38.9742, Light: 43.24, Voltage: 2.69964\n",
      "Time: 2004-02-28 02:10:16.280780, Temperature: 18.8222, Humidity: 39.0082, Light: 43.24, Voltage: 2.68742\n",
      "Time: 2004-02-28 02:11:16.721059, Temperature: 18.8124, Humidity: 39.0082, Light: 43.24, Voltage: 2.69964\n",
      "Time: 2004-02-28 02:12:46.278991, Temperature: 18.8124, Humidity: 39.0082, Light: 43.24, Voltage: 2.68742\n",
      "Time: 2004-02-28 02:13:16.505098, Temperature: 18.8026, Humidity: 39.0082, Light: 43.24, Voltage: 2.68742\n",
      "Time: 2004-02-28 02:14:46.685489, Temperature: 18.7928, Humidity: 38.9401, Light: 43.24, Voltage: 2.68742\n",
      "Time: 2004-02-28 02:16:46.546677, Temperature: 18.7928, Humidity: 38.9401, Light: 43.24, Voltage: 2.68742\n",
      "Time: 2004-02-28 02:18:46.231028, Temperature: 18.7732, Humidity: 39.0082, Light: 43.24, Voltage: 2.68742\n",
      "Time: 2004-02-28 02:19:16.175456, Temperature: 18.7732, Humidity: 39.0082, Light: 43.24, Voltage: 2.68742\n",
      "Time: 2004-02-28 02:19:46.991259, Temperature: 18.7928, Humidity: 38.872, Light: 43.24, Voltage: 2.69964\n",
      "Time: 2004-02-28 02:20:46.870029, Temperature: 18.7732, Humidity: 38.9061, Light: 43.24, Voltage: 2.69964\n",
      "Time: 2004-02-28 02:21:16.554543, Temperature: 18.7536, Humidity: 38.8379, Light: 43.24, Voltage: 2.68742\n",
      "Time: 2004-02-28 02:21:46.303901, Temperature: 18.7732, Humidity: 38.8039, Light: 43.24, Voltage: 2.69964\n",
      "Time: 2004-02-28 02:23:16.603150, Temperature: 18.7634, Humidity: 38.872, Light: 43.24, Voltage: 2.68742\n",
      "Time: 2004-02-28 02:23:46.449420, Temperature: 18.7536, Humidity: 38.8039, Light: 43.24, Voltage: 2.69964\n",
      "Time: 2004-02-28 02:24:46.059627, Temperature: 18.7242, Humidity: 38.8039, Light: 43.24, Voltage: 2.68742\n",
      "Time: 2004-02-28 02:25:46.515577, Temperature: 18.734, Humidity: 38.8379, Light: 43.24, Voltage: 2.69964\n",
      "Time: 2004-02-28 02:26:17.231310, Temperature: 18.7242, Humidity: 38.9401, Light: 43.24, Voltage: 2.69964\n"
     ]
    },
    {
     "ename": "KeyboardInterrupt",
     "evalue": "",
     "output_type": "error",
     "traceback": [
      "\u001b[1;31m---------------------------------------------------------------------------\u001b[0m",
      "\u001b[1;31mKeyboardInterrupt\u001b[0m                         Traceback (most recent call last)",
      "Cell \u001b[1;32mIn[7], line 2\u001b[0m\n\u001b[0;32m      1\u001b[0m sensor1 \u001b[38;5;241m=\u001b[39m Sensor(\u001b[38;5;124m'\u001b[39m\u001b[38;5;124m../data/processed/sorted/moteid_1.csv\u001b[39m\u001b[38;5;124m'\u001b[39m)\n\u001b[1;32m----> 2\u001b[0m sensor1\u001b[38;5;241m.\u001b[39mrun()\n",
      "Cell \u001b[1;32mIn[3], line 28\u001b[0m, in \u001b[0;36mSensor.run\u001b[1;34m(self)\u001b[0m\n\u001b[0;32m     25\u001b[0m         time_diff \u001b[38;5;241m=\u001b[39m (df[\u001b[38;5;124m'\u001b[39m\u001b[38;5;124mdatetime\u001b[39m\u001b[38;5;124m'\u001b[39m]\u001b[38;5;241m.\u001b[39miloc[i\u001b[38;5;241m+\u001b[39m\u001b[38;5;241m1\u001b[39m] \u001b[38;5;241m-\u001b[39m df[\u001b[38;5;124m'\u001b[39m\u001b[38;5;124mdatetime\u001b[39m\u001b[38;5;124m'\u001b[39m]\u001b[38;5;241m.\u001b[39miloc[i])\u001b[38;5;241m.\u001b[39mtotal_seconds()\n\u001b[0;32m     27\u001b[0m         \u001b[38;5;66;03m# Sleep for the time difference to simulate real-time data output\u001b[39;00m\n\u001b[1;32m---> 28\u001b[0m         time\u001b[38;5;241m.\u001b[39msleep(time_diff\u001b[38;5;241m/\u001b[39m\u001b[38;5;241m100\u001b[39m)\n\u001b[0;32m     30\u001b[0m \u001b[38;5;28mprint\u001b[39m(\u001b[38;5;124m\"\u001b[39m\u001b[38;5;124mSimulation finished!\u001b[39m\u001b[38;5;124m\"\u001b[39m)\n",
      "\u001b[1;31mKeyboardInterrupt\u001b[0m: "
     ]
    }
   ],
   "source": [
    "sensor1 = Sensor('../data/processed/sorted/moteid_1.csv')\n",
    "sensor1.run()"
   ]
  },
  {
   "cell_type": "code",
   "execution_count": null,
   "id": "788f37ae-c317-44a7-8e3d-386b64bf378e",
   "metadata": {},
   "outputs": [],
   "source": []
  }
 ],
 "metadata": {
  "kernelspec": {
   "display_name": "Python 3 (ipykernel)",
   "language": "python",
   "name": "python3"
  },
  "language_info": {
   "codemirror_mode": {
    "name": "ipython",
    "version": 3
   },
   "file_extension": ".py",
   "mimetype": "text/x-python",
   "name": "python",
   "nbconvert_exporter": "python",
   "pygments_lexer": "ipython3",
   "version": "3.12.4"
  }
 },
 "nbformat": 4,
 "nbformat_minor": 5
}
