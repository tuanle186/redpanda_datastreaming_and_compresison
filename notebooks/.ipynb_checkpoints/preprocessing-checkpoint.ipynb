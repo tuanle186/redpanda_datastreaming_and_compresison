{
 "cells": [
  {
   "cell_type": "markdown",
   "id": "0ffec30a-5d8a-4d77-8c2a-beed9adc1290",
   "metadata": {},
   "source": [
    "### 1. Libraries"
   ]
  },
  {
   "cell_type": "code",
   "execution_count": 2,
   "id": "ebaeeb14-4c9b-4406-83eb-1d420919962c",
   "metadata": {},
   "outputs": [],
   "source": [
    "import pandas as pd\n",
    "import time\n",
    "from datetime import datetime\n",
    "import re"
   ]
  },
  {
   "cell_type": "markdown",
   "id": "7abbee02-7e70-430c-b928-9823f788ddba",
   "metadata": {},
   "source": [
    "### 2. Split 54 sensors based on 'moteid' and convert into .csv files"
   ]
  },
  {
   "cell_type": "code",
   "execution_count": null,
   "id": "39dcd361-a400-4878-a3ba-8aeffa175aa8",
   "metadata": {},
   "outputs": [],
   "source": [
    "# Define column names\n",
    "column_names = ['date', 'time', 'epoch', 'moteid', 'temperature', 'humidity', 'light', 'voltage']\n",
    "\n",
    "# Read the txt file\n",
    "data = []\n",
    "with open('../data/raw/data.txt', 'r') as file:\n",
    "    invalid_row = []\n",
    "    for line in file:\n",
    "        parts = line.strip().split(' ')\n",
    "        if len(parts) < 8:\n",
    "            invalid_row.append(parts)\n",
    "        data.append(parts)\n",
    "\n",
    "    # for row in invalid_row:\n",
    "    #     print(row)\n",
    "\n",
    "df = pd.DataFrame(data, columns=column_names)\n",
    "\n",
    "# Group by 'moteid' and write each group to a separate CSV file\n",
    "for moteid, group in df.groupby('moteid'):\n",
    "    # Define a file name based on moteid\n",
    "    file_name = f'../data/processed/unsorted/moteid_{moteid}.csv'\n",
    "    # Write the group to a CSV file\n",
    "    group.to_csv(file_name, index=False)\n",
    "\n",
    "print(\"Files saved successfully!\")"
   ]
  },
  {
   "cell_type": "markdown",
   "id": "381acb36-ddcc-428b-a887-5342306d6f5e",
   "metadata": {},
   "source": [
    "### 3. Combine date and time columns and sort the data based on the resulting datetime values"
   ]
  },
  {
   "cell_type": "code",
   "execution_count": 21,
   "id": "d1e87f09-6e6c-4aa7-9e26-d15228715df1",
   "metadata": {},
   "outputs": [
    {
     "name": "stdout",
     "output_type": "stream",
     "text": [
      "Processed and saved: ../data/processed/sorted/moteid_1.csv\n",
      "Processed and saved: ../data/processed/sorted/moteid_2.csv\n",
      "Processed and saved: ../data/processed/sorted/moteid_3.csv\n",
      "Processed and saved: ../data/processed/sorted/moteid_4.csv\n",
      "Processed and saved: ../data/processed/sorted/moteid_5.csv\n",
      "Processed and saved: ../data/processed/sorted/moteid_6.csv\n",
      "Processed and saved: ../data/processed/sorted/moteid_7.csv\n",
      "Processed and saved: ../data/processed/sorted/moteid_8.csv\n",
      "Processed and saved: ../data/processed/sorted/moteid_9.csv\n",
      "Processed and saved: ../data/processed/sorted/moteid_10.csv\n",
      "Processed and saved: ../data/processed/sorted/moteid_11.csv\n",
      "Processed and saved: ../data/processed/sorted/moteid_12.csv\n",
      "Processed and saved: ../data/processed/sorted/moteid_13.csv\n",
      "Processed and saved: ../data/processed/sorted/moteid_14.csv\n",
      "Processed and saved: ../data/processed/sorted/moteid_15.csv\n",
      "Processed and saved: ../data/processed/sorted/moteid_16.csv\n",
      "Processed and saved: ../data/processed/sorted/moteid_17.csv\n",
      "Processed and saved: ../data/processed/sorted/moteid_18.csv\n",
      "Processed and saved: ../data/processed/sorted/moteid_19.csv\n",
      "Processed and saved: ../data/processed/sorted/moteid_20.csv\n",
      "Processed and saved: ../data/processed/sorted/moteid_21.csv\n",
      "Processed and saved: ../data/processed/sorted/moteid_22.csv\n",
      "Processed and saved: ../data/processed/sorted/moteid_23.csv\n",
      "Processed and saved: ../data/processed/sorted/moteid_24.csv\n",
      "Processed and saved: ../data/processed/sorted/moteid_25.csv\n",
      "Processed and saved: ../data/processed/sorted/moteid_26.csv\n",
      "Processed and saved: ../data/processed/sorted/moteid_27.csv\n",
      "Processed and saved: ../data/processed/sorted/moteid_28.csv\n",
      "Processed and saved: ../data/processed/sorted/moteid_29.csv\n",
      "Processed and saved: ../data/processed/sorted/moteid_30.csv\n",
      "Processed and saved: ../data/processed/sorted/moteid_31.csv\n",
      "Processed and saved: ../data/processed/sorted/moteid_32.csv\n",
      "Processed and saved: ../data/processed/sorted/moteid_33.csv\n",
      "Processed and saved: ../data/processed/sorted/moteid_34.csv\n",
      "Processed and saved: ../data/processed/sorted/moteid_35.csv\n",
      "Processed and saved: ../data/processed/sorted/moteid_36.csv\n",
      "Processed and saved: ../data/processed/sorted/moteid_37.csv\n",
      "Processed and saved: ../data/processed/sorted/moteid_38.csv\n",
      "Processed and saved: ../data/processed/sorted/moteid_39.csv\n",
      "Processed and saved: ../data/processed/sorted/moteid_40.csv\n",
      "Processed and saved: ../data/processed/sorted/moteid_41.csv\n",
      "Processed and saved: ../data/processed/sorted/moteid_42.csv\n",
      "Processed and saved: ../data/processed/sorted/moteid_43.csv\n",
      "Processed and saved: ../data/processed/sorted/moteid_44.csv\n",
      "Processed and saved: ../data/processed/sorted/moteid_45.csv\n",
      "Processed and saved: ../data/processed/sorted/moteid_46.csv\n",
      "Processed and saved: ../data/processed/sorted/moteid_47.csv\n",
      "Processed and saved: ../data/processed/sorted/moteid_48.csv\n",
      "Processed and saved: ../data/processed/sorted/moteid_49.csv\n",
      "Processed and saved: ../data/processed/sorted/moteid_50.csv\n",
      "Processed and saved: ../data/processed/sorted/moteid_51.csv\n",
      "Processed and saved: ../data/processed/sorted/moteid_52.csv\n",
      "Processed and saved: ../data/processed/sorted/moteid_53.csv\n",
      "Processed and saved: ../data/processed/sorted/moteid_54.csv\n"
     ]
    }
   ],
   "source": [
    "# Define a function to clean and ensure consistent time formatting\n",
    "def clean_time(time_str):\n",
    "    try:\n",
    "        # If the time contains microseconds, it's fine, return it as-is\n",
    "        if '.' in time_str:\n",
    "            return time_str\n",
    "        else:\n",
    "            # If the time is missing microseconds, add '.000000' for consistency\n",
    "            return time_str + '.000000'\n",
    "    except:\n",
    "        return None\n",
    "\n",
    "# Loop through moteid values from 1 to 54\n",
    "for moteid in range(1, 55):  # Assuming moteid goes from 1 to 54\n",
    "    # Construct the file path for each moteid\n",
    "    file_path = f'../data/processed/unsorted/moteid_{moteid}.csv'\n",
    "    \n",
    "    # Read the CSV file\n",
    "    try:\n",
    "        df = pd.read_csv(file_path)\n",
    "        \n",
    "        # Apply the cleaning function to the 'time' column\n",
    "        df['time'] = df['time'].apply(clean_time)\n",
    "        \n",
    "        # Combine 'date' and cleaned 'time' columns into a single 'datetime' column\n",
    "        df['datetime'] = pd.to_datetime(df['date'] + ' ' + df['time'], errors='coerce')\n",
    "        \n",
    "        # Drop any rows where 'datetime' could not be parsed\n",
    "        df = df.dropna(subset=['datetime'])\n",
    "        \n",
    "        # Sort the DataFrame by 'datetime'\n",
    "        df_sorted = df.sort_values(by='datetime').reset_index(drop=True)\n",
    "\n",
    "        # # Drop the 'datetime' column after sorting\n",
    "        # df_sorted = df_sorted.drop(columns=['datetime'])\n",
    "        \n",
    "        # Save the sorted DataFrame back to a CSV file\n",
    "        output_path = f'../data/processed/sorted/moteid_{moteid}.csv'\n",
    "        df_sorted.to_csv(output_path, index=False)\n",
    "        \n",
    "        print(f\"Processed and saved: {output_path}\")\n",
    "    \n",
    "    except FileNotFoundError:\n",
    "        print(f\"File not found: {file_path}\")\n",
    "        continue"
   ]
  },
  {
   "cell_type": "code",
   "execution_count": null,
   "id": "1087cd07-a116-46ce-aa45-75a441beed4b",
   "metadata": {},
   "outputs": [],
   "source": []
  }
 ],
 "metadata": {
  "kernelspec": {
   "display_name": "Python 3 (ipykernel)",
   "language": "python",
   "name": "python3"
  },
  "language_info": {
   "codemirror_mode": {
    "name": "ipython",
    "version": 3
   },
   "file_extension": ".py",
   "mimetype": "text/x-python",
   "name": "python",
   "nbconvert_exporter": "python",
   "pygments_lexer": "ipython3",
   "version": "3.12.4"
  }
 },
 "nbformat": 4,
 "nbformat_minor": 5
}
