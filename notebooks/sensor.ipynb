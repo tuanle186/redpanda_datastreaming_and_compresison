{
 "cells": [
  {
   "cell_type": "code",
   "execution_count": 10,
   "id": "f0ec6247-ac25-4bca-ab4b-30c01150653d",
   "metadata": {},
   "outputs": [],
   "source": [
    "import pandas as pd\n",
    "import time\n",
    "from datetime import datetime"
   ]
  },
  {
   "cell_type": "code",
   "execution_count": 12,
   "id": "d357ec23-7dbd-4bfa-8b29-b276b0bd72d4",
   "metadata": {},
   "outputs": [],
   "source": [
    "class Sensor():\n",
    "    def __init__(self, data: str):\n",
    "        self.data = data\n",
    "\n",
    "    def run(self):\n",
    "        # Read the CSV file\n",
    "        df = pd.read_csv(self.data)\n",
    "\n",
    "        # Convert 'time' column to datetime, combining it with the 'date' column to get full datetime values\n",
    "        df['datetime'] = pd.to_datetime(df['date'] + ' ' + df['time'])\n",
    "\n",
    "        # Sort the dataframe by 'datetime' to ensure chronological order\n",
    "        df = df.sort_values(by='datetime').reset_index(drop=True)\n",
    "\n",
    "        # Iterate over the rows and simulate the sensor data output\n",
    "        for i in range(len(df)):\n",
    "            row = df.iloc[i]\n",
    "\n",
    "            # Print the current row's data\n",
    "            print(f\"Time: {row['datetime']}, Temperature: {row['temperature']}, Humidity: {row['humidity']}, Light: {row['light']}, Voltage: {row['voltage']}\")\n",
    "            \n",
    "            # For the first row, there's no previous row to calculate the sleep time, so we skip it\n",
    "            if i < len(df) - 1:\n",
    "                # Calculate the time difference between the current and next row in seconds\n",
    "                time_diff = (df['datetime'].iloc[i+1] - df['datetime'].iloc[i]).total_seconds()\n",
    "                \n",
    "                # Sleep for the time difference to simulate real-time data output\n",
    "                time.sleep(time_diff/100)\n",
    "\n",
    "        print(\"Simulation finished!\")"
   ]
  },
  {
   "cell_type": "code",
   "execution_count": 14,
   "id": "48465791-aadd-40b4-ae15-75133f3ef4d7",
   "metadata": {},
   "outputs": [
    {
     "name": "stdout",
     "output_type": "stream",
     "text": [
      "Time: 2004-02-28 00:59:16.027850, Temperature: 19.9884, Humidity: 37.0933, Light: 45.08, Voltage: 2.69964\n",
      "Time: 2004-02-28 01:03:16.333930, Temperature: 19.3024, Humidity: 38.4629, Light: 45.08, Voltage: 2.68742\n",
      "Time: 2004-02-28 01:06:16.013453, Temperature: 19.1652, Humidity: 38.8039, Light: 45.08, Voltage: 2.68742\n",
      "Time: 2004-02-28 01:06:46.778088, Temperature: 19.175, Humidity: 38.8379, Light: 45.08, Voltage: 2.69964\n",
      "Time: 2004-02-28 01:08:45.992524, Temperature: 19.1456, Humidity: 38.9401, Light: 45.08, Voltage: 2.68742\n"
     ]
    },
    {
     "ename": "KeyboardInterrupt",
     "evalue": "",
     "output_type": "error",
     "traceback": [
      "\u001b[1;31m---------------------------------------------------------------------------\u001b[0m",
      "\u001b[1;31mKeyboardInterrupt\u001b[0m                         Traceback (most recent call last)",
      "Cell \u001b[1;32mIn[14], line 2\u001b[0m\n\u001b[0;32m      1\u001b[0m sensor1 \u001b[38;5;241m=\u001b[39m Sensor(\u001b[38;5;124m'\u001b[39m\u001b[38;5;124m../data/processed/sorted/moteid_1.csv\u001b[39m\u001b[38;5;124m'\u001b[39m)\n\u001b[1;32m----> 2\u001b[0m sensor1\u001b[38;5;241m.\u001b[39mrun()\n",
      "Cell \u001b[1;32mIn[12], line 28\u001b[0m, in \u001b[0;36mSensor.run\u001b[1;34m(self)\u001b[0m\n\u001b[0;32m     25\u001b[0m         time_diff \u001b[38;5;241m=\u001b[39m (df[\u001b[38;5;124m'\u001b[39m\u001b[38;5;124mdatetime\u001b[39m\u001b[38;5;124m'\u001b[39m]\u001b[38;5;241m.\u001b[39miloc[i\u001b[38;5;241m+\u001b[39m\u001b[38;5;241m1\u001b[39m] \u001b[38;5;241m-\u001b[39m df[\u001b[38;5;124m'\u001b[39m\u001b[38;5;124mdatetime\u001b[39m\u001b[38;5;124m'\u001b[39m]\u001b[38;5;241m.\u001b[39miloc[i])\u001b[38;5;241m.\u001b[39mtotal_seconds()\n\u001b[0;32m     27\u001b[0m         \u001b[38;5;66;03m# Sleep for the time difference to simulate real-time data output\u001b[39;00m\n\u001b[1;32m---> 28\u001b[0m         time\u001b[38;5;241m.\u001b[39msleep(time_diff\u001b[38;5;241m/\u001b[39m\u001b[38;5;241m100\u001b[39m)\n\u001b[0;32m     30\u001b[0m \u001b[38;5;28mprint\u001b[39m(\u001b[38;5;124m\"\u001b[39m\u001b[38;5;124mSimulation finished!\u001b[39m\u001b[38;5;124m\"\u001b[39m)\n",
      "\u001b[1;31mKeyboardInterrupt\u001b[0m: "
     ]
    }
   ],
   "source": [
    "sensor1 = Sensor('../data/processed/sorted/moteid_1.csv')\n",
    "sensor1.run()"
   ]
  },
  {
   "cell_type": "code",
   "execution_count": null,
   "id": "788f37ae-c317-44a7-8e3d-386b64bf378e",
   "metadata": {},
   "outputs": [],
   "source": []
  }
 ],
 "metadata": {
  "kernelspec": {
   "display_name": "Python 3 (ipykernel)",
   "language": "python",
   "name": "python3"
  },
  "language_info": {
   "codemirror_mode": {
    "name": "ipython",
    "version": 3
   },
   "file_extension": ".py",
   "mimetype": "text/x-python",
   "name": "python",
   "nbconvert_exporter": "python",
   "pygments_lexer": "ipython3",
   "version": "3.12.4"
  }
 },
 "nbformat": 4,
 "nbformat_minor": 5
}
