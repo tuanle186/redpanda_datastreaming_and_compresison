import pandas as pd
import time
from datetime import datetime


class Sensor():
    def __init__(self, data: str):
        self.data = data

    def run(self):
        # Read the CSV file
        df = pd.read_csv(self.data)

        # Convert 'time' column to datetime, combining it with the 'date' column to get full datetime values
        df['datetime'] = pd.to_datetime(df['date'] + ' ' + df['time'])

        # Sort the dataframe by 'datetime' to ensure chronological order
        df = df.sort_values(by='datetime').reset_index(drop=True)

        # Iterate over the rows and simulate the sensor data output
        for i in range(len(df)):
            row = df.iloc[i]

            # Print the current row's data
            print(f"Time: {row['datetime']}, Temperature: {row['temperature']}, Humidity: {row['humidity']}, Light: {row['light']}, Voltage: {row['voltage']}")
            
            # For the first row, there's no previous row to calculate the sleep time, so we skip it
            if i < len(df) - 1:
                # Calculate the time difference between the current and next row in seconds
                time_diff = (df['datetime'].iloc[i+1] - df['datetime'].iloc[i]).total_seconds()
                
                # Sleep for the time difference to simulate real-time data output
                time.sleep(time_diff/100)

        print("Simulation finished!")


sensor1 = Sensor('../data/processed/sorted/moteid_1.csv')
sensor1.run()



